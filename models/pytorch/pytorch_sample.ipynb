{
 "cells": [
  {
   "cell_type": "code",
   "execution_count": 22,
   "metadata": {},
   "outputs": [],
   "source": [
    "import os\n",
    "import numpy as np\n",
    "import pandas as pd\n",
    "\n",
    "import torch \n",
    "import torchvision\n",
    "\n"
   ]
  },
  {
   "cell_type": "code",
   "execution_count": 23,
   "metadata": {},
   "outputs": [],
   "source": [
    "train_data = torchvision.datasets.MNIST(root=\"./../0_sample_data/\", train=True, transform=torchvision.transforms.ToTensor(), download=False)\n",
    "test_data = torchvision.datasets.MNIST(root=\"./../0_sample_data/\", train=False, transform=torchvision.transforms.ToTensor(), download=False)\n",
    "\n",
    "batch_size=64\n",
    "train_dataload = torch.utils.data.DataLoader(train_data, shuffle=True, batch_size=batch_size)\n",
    "test_dataload = torch.utils.data.DataLoader(train_data, shuffle=False, batch_size=batch_size)"
   ]
  },
  {
   "cell_type": "code",
   "execution_count": 24,
   "metadata": {},
   "outputs": [],
   "source": [
    "def init_weights(m):\n",
    "    if isinstance(m, torch.nn.Linear):\n",
    "        torch.nn.init.xavier_uniform(m.weight)\n",
    "        \n",
    "def accuracy(y_hat, y):\n",
    "    return (y_hat.argmax(axis=1) == y).sum()\n",
    "\n",
    "\n",
    "def evaluate_acc(test_dataload):\n",
    "    \n",
    "    accs = []\n",
    "    lengs = []\n",
    "\n",
    "    for batch_X, batch_y in test_dataload:\n",
    "        \n",
    "        batch_y_hat = model(batch_X)\n",
    "        acc = (batch_y_hat.argmax(axis=1) == batch_y).sum()\n",
    "        leng = len(batch_y_hat)\n",
    "        \n",
    "        accs.append(acc)\n",
    "        lengs.append(leng)\n",
    "        \n",
    "    return sum(accs)/sum(lengs)\n",
    "\n",
    "\n",
    "def train_epoch(train_dataload, test_dataload):\n",
    "\n",
    "    for batch_X, batch_y in train_dataload:\n",
    "        \n",
    "        batch_y_hat = model(batch_X)\n",
    "        batch_loss = loss(batch_y_hat, batch_y)\n",
    "        \n",
    "        optimizer.zero_grad()\n",
    "        batch_loss.backward()\n",
    "        optimizer.step()\n",
    "\n",
    "\n",
    "def train(epoch_num):\n",
    "    for i in range(epoch_num):\n",
    "        train_epoch(train_dataload, test_dataload)\n",
    "        accuracy = evaluate_acc(test_dataload)\n",
    "        print(\"Epoch {}, Accuracy: {:.2f}%\".format(i, accuracy*100))\n",
    "\n"
   ]
  },
  {
   "cell_type": "code",
   "execution_count": 25,
   "metadata": {},
   "outputs": [
    {
     "name": "stdout",
     "output_type": "stream",
     "text": [
      "Epoch 0, Accuracy: 96.55%\n",
      "Epoch 1, Accuracy: 97.82%\n",
      "Epoch 2, Accuracy: 98.57%\n",
      "Epoch 3, Accuracy: 98.91%\n",
      "Epoch 4, Accuracy: 99.17%\n",
      "Epoch 5, Accuracy: 99.36%\n",
      "Epoch 6, Accuracy: 99.50%\n",
      "Epoch 7, Accuracy: 99.57%\n",
      "Epoch 8, Accuracy: 99.73%\n",
      "Epoch 9, Accuracy: 99.78%\n"
     ]
    }
   ],
   "source": [
    "model = torch.nn.Sequential(\n",
    "    torch.nn.Flatten(),\n",
    "    torch.nn.Linear(784, 256),\n",
    "    torch.nn.ReLU(),\n",
    "    torch.nn.Linear(256, 10),\n",
    "    )\n",
    "model.apply(init_weights)\n",
    "\n",
    "loss = torch.nn.CrossEntropyLoss()\n",
    "\n",
    "optimizer = torch.optim.Adagrad(params=model.parameters(), lr=0.1)\n",
    "\n",
    "train(epoch_num=10)\n"
   ]
  },
  {
   "cell_type": "code",
   "execution_count": 26,
   "metadata": {},
   "outputs": [],
   "source": [
    "torch.save(model.state_dict(),\"./pytorch_model.pkl\")\n"
   ]
  },
  {
   "cell_type": "code",
   "execution_count": null,
   "metadata": {},
   "outputs": [],
   "source": []
  }
 ],
 "metadata": {
  "interpreter": {
   "hash": "742871bb6e609255bc28a59b6a1471655ace576fc27277c003267a791c7c9788"
  },
  "kernelspec": {
   "display_name": "Python 3.9.7 64-bit ('522_Group6': conda)",
   "language": "python",
   "name": "python3"
  },
  "language_info": {
   "codemirror_mode": {
    "name": "ipython",
    "version": 3
   },
   "file_extension": ".py",
   "mimetype": "text/x-python",
   "name": "python",
   "nbconvert_exporter": "python",
   "pygments_lexer": "ipython3",
   "version": "3.9.7"
  },
  "orig_nbformat": 4
 },
 "nbformat": 4,
 "nbformat_minor": 2
}
